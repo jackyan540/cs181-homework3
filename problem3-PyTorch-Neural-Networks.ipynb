{
  "nbformat": 4,
  "nbformat_minor": 0,
  "metadata": {
    "accelerator": "GPU",
    "colab": {
      "name": "T3_P3.ipynb",
      "provenance": [],
      "collapsed_sections": [],
      "toc_visible": true
    },
    "kernelspec": {
      "display_name": "Python 3",
      "language": "python",
      "name": "python3"
    },
    "language_info": {
      "codemirror_mode": {
        "name": "ipython",
        "version": 3
      },
      "file_extension": ".py",
      "mimetype": "text/x-python",
      "name": "python",
      "nbconvert_exporter": "python",
      "pygments_lexer": "ipython3",
      "version": "3.6.2"
    },
    "widgets": {
      "application/vnd.jupyter.widget-state+json": {
        "eea9aeb2ebfa42fc816d1a868c439563": {
          "model_module": "@jupyter-widgets/controls",
          "model_name": "HBoxModel",
          "state": {
            "_view_name": "HBoxView",
            "_dom_classes": [],
            "_model_name": "HBoxModel",
            "_view_module": "@jupyter-widgets/controls",
            "_model_module_version": "1.5.0",
            "_view_count": null,
            "_view_module_version": "1.5.0",
            "box_style": "",
            "layout": "IPY_MODEL_9be536df1183466c814c4986d6a10641",
            "_model_module": "@jupyter-widgets/controls",
            "children": [
              "IPY_MODEL_fb5be95a803f42548a8d3c1f757c4fef",
              "IPY_MODEL_cb894872f5d7409190e293bfb70f2378"
            ]
          }
        },
        "9be536df1183466c814c4986d6a10641": {
          "model_module": "@jupyter-widgets/base",
          "model_name": "LayoutModel",
          "state": {
            "_view_name": "LayoutView",
            "grid_template_rows": null,
            "right": null,
            "justify_content": null,
            "_view_module": "@jupyter-widgets/base",
            "overflow": null,
            "_model_module_version": "1.2.0",
            "_view_count": null,
            "flex_flow": null,
            "width": null,
            "min_width": null,
            "border": null,
            "align_items": null,
            "bottom": null,
            "_model_module": "@jupyter-widgets/base",
            "top": null,
            "grid_column": null,
            "overflow_y": null,
            "overflow_x": null,
            "grid_auto_flow": null,
            "grid_area": null,
            "grid_template_columns": null,
            "flex": null,
            "_model_name": "LayoutModel",
            "justify_items": null,
            "grid_row": null,
            "max_height": null,
            "align_content": null,
            "visibility": null,
            "align_self": null,
            "height": null,
            "min_height": null,
            "padding": null,
            "grid_auto_rows": null,
            "grid_gap": null,
            "max_width": null,
            "order": null,
            "_view_module_version": "1.2.0",
            "grid_template_areas": null,
            "object_position": null,
            "object_fit": null,
            "grid_auto_columns": null,
            "margin": null,
            "display": null,
            "left": null
          }
        },
        "fb5be95a803f42548a8d3c1f757c4fef": {
          "model_module": "@jupyter-widgets/controls",
          "model_name": "FloatProgressModel",
          "state": {
            "_view_name": "ProgressView",
            "style": "IPY_MODEL_c90856d8e403498fa4ef1e11a8803c49",
            "_dom_classes": [],
            "description": "",
            "_model_name": "FloatProgressModel",
            "bar_style": "success",
            "max": 1,
            "_view_module": "@jupyter-widgets/controls",
            "_model_module_version": "1.5.0",
            "value": 1,
            "_view_count": null,
            "_view_module_version": "1.5.0",
            "orientation": "horizontal",
            "min": 0,
            "description_tooltip": null,
            "_model_module": "@jupyter-widgets/controls",
            "layout": "IPY_MODEL_da347889883045e7b933ac5430a7957c"
          }
        },
        "cb894872f5d7409190e293bfb70f2378": {
          "model_module": "@jupyter-widgets/controls",
          "model_name": "HTMLModel",
          "state": {
            "_view_name": "HTMLView",
            "style": "IPY_MODEL_14af31561d0b4af3908380545bb5229c",
            "_dom_classes": [],
            "description": "",
            "_model_name": "HTMLModel",
            "placeholder": "​",
            "_view_module": "@jupyter-widgets/controls",
            "_model_module_version": "1.5.0",
            "value": " 170500096/? [00:07&lt;00:00, 24104277.04it/s]",
            "_view_count": null,
            "_view_module_version": "1.5.0",
            "description_tooltip": null,
            "_model_module": "@jupyter-widgets/controls",
            "layout": "IPY_MODEL_ef3a88c7e5154732999b2589edb7dfef"
          }
        },
        "c90856d8e403498fa4ef1e11a8803c49": {
          "model_module": "@jupyter-widgets/controls",
          "model_name": "ProgressStyleModel",
          "state": {
            "_view_name": "StyleView",
            "_model_name": "ProgressStyleModel",
            "description_width": "initial",
            "_view_module": "@jupyter-widgets/base",
            "_model_module_version": "1.5.0",
            "_view_count": null,
            "_view_module_version": "1.2.0",
            "bar_color": null,
            "_model_module": "@jupyter-widgets/controls"
          }
        },
        "da347889883045e7b933ac5430a7957c": {
          "model_module": "@jupyter-widgets/base",
          "model_name": "LayoutModel",
          "state": {
            "_view_name": "LayoutView",
            "grid_template_rows": null,
            "right": null,
            "justify_content": null,
            "_view_module": "@jupyter-widgets/base",
            "overflow": null,
            "_model_module_version": "1.2.0",
            "_view_count": null,
            "flex_flow": null,
            "width": null,
            "min_width": null,
            "border": null,
            "align_items": null,
            "bottom": null,
            "_model_module": "@jupyter-widgets/base",
            "top": null,
            "grid_column": null,
            "overflow_y": null,
            "overflow_x": null,
            "grid_auto_flow": null,
            "grid_area": null,
            "grid_template_columns": null,
            "flex": null,
            "_model_name": "LayoutModel",
            "justify_items": null,
            "grid_row": null,
            "max_height": null,
            "align_content": null,
            "visibility": null,
            "align_self": null,
            "height": null,
            "min_height": null,
            "padding": null,
            "grid_auto_rows": null,
            "grid_gap": null,
            "max_width": null,
            "order": null,
            "_view_module_version": "1.2.0",
            "grid_template_areas": null,
            "object_position": null,
            "object_fit": null,
            "grid_auto_columns": null,
            "margin": null,
            "display": null,
            "left": null
          }
        },
        "14af31561d0b4af3908380545bb5229c": {
          "model_module": "@jupyter-widgets/controls",
          "model_name": "DescriptionStyleModel",
          "state": {
            "_view_name": "StyleView",
            "_model_name": "DescriptionStyleModel",
            "description_width": "",
            "_view_module": "@jupyter-widgets/base",
            "_model_module_version": "1.5.0",
            "_view_count": null,
            "_view_module_version": "1.2.0",
            "_model_module": "@jupyter-widgets/controls"
          }
        },
        "ef3a88c7e5154732999b2589edb7dfef": {
          "model_module": "@jupyter-widgets/base",
          "model_name": "LayoutModel",
          "state": {
            "_view_name": "LayoutView",
            "grid_template_rows": null,
            "right": null,
            "justify_content": null,
            "_view_module": "@jupyter-widgets/base",
            "overflow": null,
            "_model_module_version": "1.2.0",
            "_view_count": null,
            "flex_flow": null,
            "width": null,
            "min_width": null,
            "border": null,
            "align_items": null,
            "bottom": null,
            "_model_module": "@jupyter-widgets/base",
            "top": null,
            "grid_column": null,
            "overflow_y": null,
            "overflow_x": null,
            "grid_auto_flow": null,
            "grid_area": null,
            "grid_template_columns": null,
            "flex": null,
            "_model_name": "LayoutModel",
            "justify_items": null,
            "grid_row": null,
            "max_height": null,
            "align_content": null,
            "visibility": null,
            "align_self": null,
            "height": null,
            "min_height": null,
            "padding": null,
            "grid_auto_rows": null,
            "grid_gap": null,
            "max_width": null,
            "order": null,
            "_view_module_version": "1.2.0",
            "grid_template_areas": null,
            "object_position": null,
            "object_fit": null,
            "grid_auto_columns": null,
            "margin": null,
            "display": null,
            "left": null
          }
        }
      }
    }
  },
  "cells": [
    {
      "cell_type": "markdown",
      "metadata": {
        "id": "T7HLdN6RHIoB"
      },
      "source": [
        "## This notebook contains a **tutorial** followed by **Problem 3 of Homework 3**, both of which are based on PyTorch."
      ]
    },
    {
      "cell_type": "markdown",
      "metadata": {
        "id": "2biosIind-6h"
      },
      "source": [
        "### To complete this problem, please upload this .ipynb (Notebook) file **to Google Colab.** (You'll need to use Colab because it supports GPU and has all the necessary packages pre-installed.) When you're finished, go to \"File -> Download .ipynb\" and submit your .ipynb notebook as a supplemental file.\n",
        "\n",
        "### This notebook has instructions for several homework problems.  ***You must write your answers to these problems in your PDF submission file.*** Your Colab notebook will not be graded, so please make sure you transfer all deliverables (including plots and written work) to your PDF.  "
      ]
    },
    {
      "cell_type": "code",
      "metadata": {
        "collapsed": true,
        "id": "LTOxErZWluNP"
      },
      "source": [
        "import torch\n",
        "import numpy as np\n",
        "import math"
      ],
      "execution_count": 1,
      "outputs": []
    },
    {
      "cell_type": "markdown",
      "metadata": {
        "id": "Op_QDEYGhCqL"
      },
      "source": [
        "So far in CS 181, we've been using numpy and scikit-learn to write ML code. In this tutorial, we'll introduce you to **PyTorch**, the ML library of choice for industry and academia.\n",
        "\n",
        "**Before working through this notebook, make sure that the runtime type is set to GPU.** Follow Edit -> Notebook settings -> and select GPU as the hardware accelerator."
      ]
    },
    {
      "cell_type": "markdown",
      "metadata": {
        "id": "K99RHUFel7yJ"
      },
      "source": [
        "# Tutorial: Getting to Know PyTorch - Key Concepts\n",
        "\n",
        "### Why PyTorch?\n",
        "\n",
        "PyTorch...\n",
        "*   Provides flexible building blocks for building customizable models, including neural network layers, activation functions, and optimization algorithms\n",
        "*   Can automatically compute gradients, making backpropagation a breeze!\n",
        "*   Can accelerate computation on GPUs"
      ]
    },
    {
      "cell_type": "markdown",
      "metadata": {
        "id": "1OqXiibkjd8b"
      },
      "source": [
        "## Tensors\n",
        "\n",
        "Tensors are the basic units of storage and computation in PyTorch. They are very similar to NumPy arrays, and follow the same syntax for indexing and for most arithmetic operations.\n"
      ]
    },
    {
      "cell_type": "code",
      "metadata": {
        "colab": {
          "base_uri": "https://localhost:8080/"
        },
        "id": "VQ6v6uTCjcqm",
        "outputId": "039f6c81-a0c5-456c-e054-bd7f9cd4264b"
      },
      "source": [
        "# Basic tensor operations\n",
        "x_tensor = torch.tensor([1, 2, 3, 4, 5])\n",
        "y_tensor = torch.ones((2, 5))\n",
        "prod = x_tensor * y_tensor[1,:]\n",
        "print(prod, prod.shape) # Use .shape to view shape just as in NumPy"
      ],
      "execution_count": 2,
      "outputs": [
        {
          "output_type": "stream",
          "text": [
            "tensor([1., 2., 3., 4., 5.]) torch.Size([5])\n"
          ],
          "name": "stdout"
        }
      ]
    },
    {
      "cell_type": "code",
      "metadata": {
        "collapsed": true,
        "id": "t1POkPN7oHDl"
      },
      "source": [
        "# Easy conversion between PyTorch and Numpy\n",
        "x_numpy = np.array([1, 2, 3, 4, 5])\n",
        "assert (x_tensor.numpy() == x_numpy).all()\n",
        "assert (x_tensor == torch.from_numpy(x_numpy)).all()"
      ],
      "execution_count": 3,
      "outputs": []
    },
    {
      "cell_type": "markdown",
      "metadata": {
        "id": "s0ovXbiFmMA_"
      },
      "source": [
        "What makes tensors **different** from NumPy arrays is:\n",
        "\n",
        "1. They support GPU acceleration.\n",
        "2. They contain additional information (accessed as attributes, which we will see later) which facilitate the easy building and training of neural networks, via **computation graphs** and **gradients**."
      ]
    },
    {
      "cell_type": "markdown",
      "metadata": {
        "id": "At9t1bdM7vp_"
      },
      "source": [
        "## A motivating example\n",
        "\n",
        "To see the advantages of PyTorch in action, let's first take a look at how one might train a simple model using only NumPy:"
      ]
    },
    {
      "cell_type": "code",
      "metadata": {
        "colab": {
          "base_uri": "https://localhost:8080/"
        },
        "id": "jJo7qe3_77c_",
        "outputId": "5cf20c94-c03f-4358-c782-fad68d5b3470"
      },
      "source": [
        "import numpy as np\n",
        "import math\n",
        "\n",
        "# Create 2000 random input and output data points\n",
        "x = np.linspace(-math.pi, math.pi, 2000)\n",
        "y = np.sin(x)\n",
        "\n",
        "# Step 0 - Initialization: Initialize model parameters (randomly, in this example)\n",
        "a = np.random.randn()\n",
        "b = np.random.randn()\n",
        "c = np.random.randn()\n",
        "d = np.random.randn()\n",
        "\n",
        "learning_rate = 1e-6\n",
        "for t in range(2000):\n",
        "    # Step 1 - Forward Pass: compute predicted y according to the following model:\n",
        "    # y = a + b x + c x^2 + d x^3\n",
        "    y_pred = a + b * x + c * x ** 2 + d * x ** 3\n",
        "\n",
        "    # Step 2 - Compute Loss (MSE in this example)\n",
        "    loss = np.square(y_pred - y).sum() # Sum across 2000 training points\n",
        "    if t % 100 == 0:\n",
        "        print(f'Epoch {t}: loss {loss}')\n",
        "\n",
        "    # Step 3 - Differentiate: Use backprop (chain rule) to compute gradients\n",
        "    # of the loss function with respect to a, b, c, d\n",
        "    grad_y_pred = 2.0 * (y_pred - y)\n",
        "    grad_a = grad_y_pred.sum() # Sum across 2000 training points\n",
        "    grad_b = (grad_y_pred * x).sum()\n",
        "    grad_c = (grad_y_pred * x ** 2).sum()\n",
        "    grad_d = (grad_y_pred * x ** 3).sum()\n",
        "\n",
        "    # Step 4 - Optimize: Update weights (vanilla GD in this example)\n",
        "    a -= learning_rate * grad_a\n",
        "    b -= learning_rate * grad_b\n",
        "    c -= learning_rate * grad_c\n",
        "    d -= learning_rate * grad_d\n",
        "\n",
        "print(f'Result: y = {a} + {b} x + {c} x^2 + {d} x^3')\n",
        "\n",
        "# From: https://pytorch.org/tutorials/beginner/pytorch_with_examples.html"
      ],
      "execution_count": 4,
      "outputs": [
        {
          "output_type": "stream",
          "text": [
            "Epoch 0: loss 446283.4528088096\n",
            "Epoch 100: loss 1497.015299413404\n",
            "Epoch 200: loss 1000.4450123095428\n",
            "Epoch 300: loss 669.8790940803981\n",
            "Epoch 400: loss 449.728891391622\n",
            "Epoch 500: loss 303.04816689378924\n",
            "Epoch 600: loss 205.27259154646322\n",
            "Epoch 700: loss 140.06444003250192\n",
            "Epoch 800: loss 96.55347429424964\n",
            "Epoch 900: loss 67.50439553080116\n",
            "Epoch 1000: loss 48.09935246154974\n",
            "Epoch 1100: loss 35.128827620412736\n",
            "Epoch 1200: loss 26.453746859439235\n",
            "Epoch 1300: loss 20.647772512750095\n",
            "Epoch 1400: loss 16.75933552796599\n",
            "Epoch 1500: loss 14.15326428664268\n",
            "Epoch 1600: loss 12.405343449804924\n",
            "Epoch 1700: loss 11.232082752111992\n",
            "Epoch 1800: loss 10.443916959248071\n",
            "Epoch 1900: loss 9.91400482783616\n",
            "Result: y = 0.01601863717240139 + 0.8346990792212899 x + -0.002763481463512339 x^2 + -0.09019514007394985 x^3\n"
          ],
          "name": "stdout"
        }
      ]
    },
    {
      "cell_type": "markdown",
      "metadata": {
        "id": "BIfNG71OG9Jq"
      },
      "source": [
        "Each step involved in training a model is coded very explicitly in this example:\n",
        "0. Initialization: Initialize model parameters (i.e. weights)\n",
        "1. Forward Pass: Compute predictions\n",
        "2. Compute Loss\n",
        "3. Differentiate: Compute gradients via backpropagation (chain rule)\n",
        "4. Optimize: Update weights using gradients\n",
        "\n",
        "Notice how:\n",
        "- Every model parameter is stored as a variable, which contains a weight value to be continuously updated through training\n",
        "- The calculation of the gradient of the loss function with respect to the model parameters is coded explicitly and thus *model dependent*\n",
        "<!-- - The gradient of the loss function needs to be computed with respect to the model parameters explicitly using the chain rule -->\n",
        "- Each model parameter's gradient is used to update the weight value according to a particular update rule which is also explicitly implemented - in this example, standard gradient descent (GD).\n",
        "\n",
        "Steps 0 and 1 might not be so difficult using a basic package such as NumPy; however, one could imagine that steps 2 and 3 would quickly become too burdensome to implement manually for models with more parameters, both because of 1) the large number of parameters and 2) the fact that the explicit implementation of the chain rule and update rule will look different every time depending on the the model structure and optimization algorithm.\n",
        "\n",
        "This is where PyTorch's **automatic differentiation** engine, **Autograd**, is useful. As the name implies, PyTorch can take care of computing gradients and applying optimization update rules automatically under the hood, such that the code we write to invoke these two operaations will look (very nearly) the same across all models."
      ]
    },
    {
      "cell_type": "markdown",
      "metadata": {
        "id": "IcRm_01MryEd"
      },
      "source": [
        "## Computation Graphs and Autograd\n",
        "\n",
        "<!-- Old paragraphs, commented out to preserve in case we want to bring back language -->\n",
        "<!-- Autograd, PyTorch's automatic differentiation engine, is one of the best things that PyTorch has to offer when it comes to training neural networks! Recall that in order to compute gradients for weights in a neural network, you have to backpropagate errors at each node. This is computationally intensive even for a one or two layers and would be a nightmare to implement manually for very deep networks. -->\n",
        "<!-- PyTorch tensors can keep track of a *computation graph* whenever operations are performed on/between tensors. Autograd performs backprop on this computation graph, so all the steps to compute the gradient are abstracted away. To perform a gradient step update, you simply have to call built-in PyTorch functions that computes the derivative of the loss and (if you're using gradient descent) takes a step toward a gradient of zero. -->\n",
        "\n",
        "To implement automatic differentiation, PyTorch keeps track of a **computation graph** which logs every operation used to construct a certain output or mathematical expression (more on computation graphs in the [Appendix](#Appendix)). Computation graphs are created automatically whenever mathematical operations are performed using tensors as inputs. Using this graph, **Autograd** can perform backpropagation by repeated applications of the chain rule, and all of these differentiation steps are abstracted away from the user. To perform weight updates, we simply call built-in PyTorch optimizer functions which implement different update rules using the gradients computed during backpropagation.\n",
        "\n",
        "As we work through the following example, keep in mind that computation graphs in PyTorch are *implicitly* constructed when one builds mathematical expressions. That is, one will never have to write code expressly for the purpose of building such a graph; rather, the computation graph will be assembled automatically using whichever Tensors or operations are appropriately \"earmarked\" for tracking (see `requires_grad` below).\n",
        "\n",
        "Let's start with a simple example of autograd. (Original example from https://pytorch.org/tutorials/beginner/nlp/pytorch_tutorial.html.)\n"
      ]
    },
    {
      "cell_type": "code",
      "metadata": {
        "colab": {
          "base_uri": "https://localhost:8080/"
        },
        "id": "-oQ3VCa-wEnL",
        "outputId": "1b0692cf-e82f-4c10-c9b0-8d40000e6300"
      },
      "source": [
        "# Create tensors\n",
        "x = torch.randn(2, 2)\n",
        "y = torch.randn(2, 2)\n",
        "print('x:', x)\n",
        "print('y:', y)"
      ],
      "execution_count": 5,
      "outputs": [
        {
          "output_type": "stream",
          "text": [
            "x: tensor([[1.5915, 0.9155],\n",
            "        [1.3087, 0.7641]])\n",
            "y: tensor([[-0.6694,  0.7723],\n",
            "        [ 0.8399,  0.2058]])\n"
          ],
          "name": "stdout"
        }
      ]
    },
    {
      "cell_type": "markdown",
      "metadata": {
        "id": "xoGuhefUwfz4"
      },
      "source": [
        "Tensors have a ```requires_grad``` field. When ```requires_grad == True``` for a certain tensor, any subsequent operations that this tensor is an input to will be incorporated into a computation graph. Autograd will then be able to automatically compute partial derivatives *with respect to this tensor*. (Derivative of what function? More on that [later](#step5).) \n",
        "\n",
        "For any tensors which are the outputs of operations tracked in the computation graph, the ```grad_fn``` attribute will indicate the operation that created the tensor, represented as a `Function` object. (It is these `Function`s which encode the computation graph DAG [Directed Acyclic Graph].)\n",
        "\n",
        "**Important: If some starting tensors have requires_grad = True, then every tensor resulting from operations of those starting tensors will also have requires_grad = True.**\n",
        "\n"
      ]
    },
    {
      "cell_type": "code",
      "metadata": {
        "colab": {
          "base_uri": "https://localhost:8080/"
        },
        "id": "tNy9_NsXwXPp",
        "outputId": "8dc27bec-4bcb-4b4f-abea-5e6c3bac4012"
      },
      "source": [
        "# By default, user created Tensors have ``requires_grad=False``\n",
        "print('x and y requires_grad:', x.requires_grad, y.requires_grad)\n",
        "z = x + y\n",
        "# So you can't backprop through z\n",
        "print('z grad_fn:', z.grad_fn)"
      ],
      "execution_count": 6,
      "outputs": [
        {
          "output_type": "stream",
          "text": [
            "x and y requires_grad: False False\n",
            "z grad_fn: None\n"
          ],
          "name": "stdout"
        }
      ]
    },
    {
      "cell_type": "code",
      "metadata": {
        "colab": {
          "base_uri": "https://localhost:8080/"
        },
        "id": "Xnb3o2ayxFyX",
        "outputId": "97bd6e8b-df50-47fa-fb03-056d4f00999e"
      },
      "source": [
        "# ``.requires_grad_( ... )`` changes an existing Tensor's ``requires_grad`` flag in-place.\n",
        "# The input flag defaults to ``True`` if not given.\n",
        "x = x.requires_grad_()\n",
        "y = y.requires_grad_()\n",
        "# z contains enough information to compute gradients, as we saw above\n",
        "z = x + y\n",
        "print('z grad_fn:', z.grad_fn)\n",
        "# If any input to an operation has ``requires_grad=True``, so will the output\n",
        "print('z requires_grad:', z.requires_grad)"
      ],
      "execution_count": 7,
      "outputs": [
        {
          "output_type": "stream",
          "text": [
            "z grad_fn: <AddBackward0 object at 0x7f2254367490>\n",
            "z requires_grad: True\n"
          ],
          "name": "stdout"
        }
      ]
    },
    {
      "cell_type": "markdown",
      "metadata": {
        "id": "jjqGhfJ8yZJs"
      },
      "source": [
        "We can also detach a tensor from its computation graph:"
      ]
    },
    {
      "cell_type": "code",
      "metadata": {
        "colab": {
          "base_uri": "https://localhost:8080/"
        },
        "id": "C0bYoOKBwKm0",
        "outputId": "c6c79810-1937-40b1-aa7d-215c7f4930d1"
      },
      "source": [
        "# Now z has the computation history that relates itself to x and y\n",
        "# Can we just take its values, and **detach** it from its history?\n",
        "new_z = z.detach()\n",
        "\n",
        "# ... does new_z have information to backprop to x and y?\n",
        "# NO!\n",
        "print('new_z grad_fn:', new_z.grad_fn)\n",
        "# And how could it? ``z.detach()`` returns a tensor that shares the same storage as ``z``, but with the computation history forgotten.\n",
        "# It doesn't know anything about how it was computed.\n",
        "# In essence, we have broken the Tensor away from its past history"
      ],
      "execution_count": 8,
      "outputs": [
        {
          "output_type": "stream",
          "text": [
            "new_z grad_fn: None\n"
          ],
          "name": "stdout"
        }
      ]
    },
    {
      "cell_type": "markdown",
      "metadata": {
        "id": "Xe2dUCuuTpo5"
      },
      "source": [
        "Now that we've been introduced to `requires_grad`, `grad_fn` and the computation graph....\n",
        "\n",
        "#### Question: Where should I actually set requires_grad to make everything work?\n",
        "#### Short Answer: In any tensors which represent model parameters or weights.\n",
        "\n",
        "Long Answer:\n",
        "\n",
        "- If you are initializing a parameter(s)/weight(s) by creating an individual tensor(s) manually, you have to set its `requires_grad = True` argument. \n",
        "- If you are initializing a parameter(s)/weight(s) by using built-in PyTorch methods from packages such as nn.Layer and nn.Parameter, the internally initialized tensors should already have `requires_grad` set to `True`.\n"
      ]
    },
    {
      "cell_type": "markdown",
      "metadata": {
        "id": "zIFDbUwUrvCK"
      },
      "source": [
        "## GPU Acceleration\n",
        "\n",
        "GPUs are built for parallel processing — they can handle thousands of operations at the same time — which makes them great for computationally-intensive neural nets."
      ]
    },
    {
      "cell_type": "code",
      "metadata": {
        "collapsed": true,
        "id": "7QdobpsapbDV"
      },
      "source": [
        "# To run tensor operations on GPU in Colab, go to Edit -> Notebook settings -> and select GPU as the hardware accelerator.\n",
        "# If GPU is enabled, the following assertion should pass.\n",
        "assert torch.cuda.is_available()"
      ],
      "execution_count": 9,
      "outputs": []
    },
    {
      "cell_type": "code",
      "metadata": {
        "colab": {
          "base_uri": "https://localhost:8080/"
        },
        "id": "djVoc6o0pqIn",
        "outputId": "92b12582-d766-4b30-e520-31e26e3710c0"
      },
      "source": [
        "# When creating a tensor, set its device to use CUDA (a GPU parallel computing platform), as shown below.\n",
        "# What this means is that we are telling PyTorch to physically initialize the relevant \n",
        "# variable in GPU memory.\n",
        "device = torch.device('cuda:0' if torch.cuda.is_available() else 'cpu')\n",
        "x = torch.rand(5, 5, device=device)\n",
        "y = torch.rand(5, 5, device=device)\n",
        "x * y"
      ],
      "execution_count": 10,
      "outputs": [
        {
          "output_type": "execute_result",
          "data": {
            "text/plain": [
              "tensor([[0.1921, 0.3848, 0.3708, 0.2513, 0.1176],\n",
              "        [0.4403, 0.3469, 0.0424, 0.0389, 0.0066],\n",
              "        [0.1891, 0.0094, 0.4233, 0.3967, 0.3377],\n",
              "        [0.4803, 0.3523, 0.0213, 0.0079, 0.2652],\n",
              "        [0.1246, 0.0179, 0.0184, 0.4167, 0.0476]], device='cuda:0')"
            ]
          },
          "metadata": {
            "tags": []
          },
          "execution_count": 10
        }
      ]
    },
    {
      "cell_type": "markdown",
      "metadata": {
        "id": "bTYacvPiDex5"
      },
      "source": [
        "## Defining a Model\n",
        "\n",
        "* The ```nn``` package defines basic neural network layers (or Modules, in PyTorch-speak) as well as common loss functions. Modules take a tensor as input, apply some computation/function to it, and then output the new tensor. \n",
        "\n",
        "* The ```optim``` package defines common optimization algorithms such as Adam, RMSProp, and AdaGrad. These algorithms are all variations of stochastic (randomized) gradient descent, and they may differ in terms of how the gradient steps are taken and how the learning rate adapts over epochs. (More details here: https://pytorch.org/docs/stable/optim.html.)\n",
        "\n",
        "### Example: Cubic Model\n",
        "Let's say we want to predict y's modeled as ```ax + bx^2 + cx^3```, and our goal is to learn the weights ```a```, ```b```, and ```c```. (Original example from https://pytorch.org/tutorials/beginner/pytorch_with_examples.html#id21.) "
      ]
    },
    {
      "cell_type": "markdown",
      "metadata": {
        "id": "ms74sAOfKw1x"
      },
      "source": [
        "### Step 1: Generate Data"
      ]
    },
    {
      "cell_type": "code",
      "metadata": {
        "colab": {
          "base_uri": "https://localhost:8080/"
        },
        "id": "Nb9Qvif0KOmh",
        "outputId": "b71c0b27-264b-4912-d2f1-251de48c2bbf"
      },
      "source": [
        "# Create Tensors to hold input and outputs.\n",
        "x = torch.linspace(-math.pi, math.pi, 2000)\n",
        "y = torch.sin(x)\n",
        "\n",
        "# Prepare the input tensor (x, x^2, x^3).\n",
        "p = torch.tensor([1, 2, 3])\n",
        "xx = x.unsqueeze(-1).pow(p) \n",
        "print(xx.shape)\n",
        "# Unsqueeze inserts a dimension of size one at the specified location; the tensor\n",
        "# is reshaped to (2000, 1). Since p is a tensor, pow is applied according to\n",
        "# broadcasting rules; xx has a final shape of (2000, 3). See documentation for \n",
        "# more on broadcasting; PyTorch supports NumPy broadcasting semantics."
      ],
      "execution_count": 11,
      "outputs": [
        {
          "output_type": "stream",
          "text": [
            "torch.Size([2000, 3])\n"
          ],
          "name": "stdout"
        }
      ]
    },
    {
      "cell_type": "markdown",
      "metadata": {
        "id": "lZrswir2K0fp"
      },
      "source": [
        "<a name=\"step2\"></a>\n",
        "\n",
        "### Step 2: Define Model (using nn package)"
      ]
    },
    {
      "cell_type": "code",
      "metadata": {
        "collapsed": true,
        "id": "soqgPNLtK5mG"
      },
      "source": [
        "# Use the nn package to define our model as a sequence of layers.\n",
        "# nn.Sequential is a Module which contains other Modules, and applies them in sequence to produce its output.\n",
        "# nn.Linear computes the 3 input features (x, x^2, and x^3) into 1 output feature using a linear function,\n",
        "# holding internal tensors for its weight and bias.\n",
        "# nn.Flatten flattens the output of the linear layer to a 1D tensor to match the shape of y.\n",
        "# In this case, the first dim it flattens is at index 0, and the last dim it flattens is at index 1.\n",
        "\n",
        "model = torch.nn.Sequential(\n",
        "    torch.nn.Linear(3, 1),\n",
        "    torch.nn.Flatten(0, 1)\n",
        ")"
      ],
      "execution_count": 12,
      "outputs": []
    },
    {
      "cell_type": "markdown",
      "metadata": {
        "id": "LE6UFoGcMrbE"
      },
      "source": [
        "### Step 3: Define Loss Function (using nn package)"
      ]
    },
    {
      "cell_type": "code",
      "metadata": {
        "collapsed": true,
        "id": "AwHrUXgPMqfY"
      },
      "source": [
        "# In this case, we will use Mean Squared Error. \n",
        "# You can either implement loss functions manually, or\n",
        "# you can use PyTorch's implementations of commonly-used loss functions.\n",
        "loss_fn = torch.nn.MSELoss(reduction='sum')"
      ],
      "execution_count": 13,
      "outputs": []
    },
    {
      "cell_type": "markdown",
      "metadata": {
        "id": "KAEuLYyAM1UD"
      },
      "source": [
        "### Step 4: Define Optimizer (using optim package)\n",
        "\n",
        "Use the optim package to define an Optimizer that will update the weights of the model for us. Here we will use RMSprop; the optim package contains many other optimization algorithms. The first argument to the RMSprop constructor tells the optimizer which Tensors it should update.\n",
        "\n",
        "In general, what distinguishes different optimizers is the way that they use gradients to define an update rule or scheme for their model weights. It follows then that any optimizer will always need the weights to be updated, and their corresponding gradients. In PyTorch, both of these quantities are stored together under model parameter variables. In particular, if `var` is a model weight, `var.grad` will contain a gradient with respect to `var` after backpropagation is performed. More in the next code cell."
      ]
    },
    {
      "cell_type": "code",
      "metadata": {
        "collapsed": true,
        "id": "MdSCSU5nM4bG"
      },
      "source": [
        "learning_rate = 1e-3\n",
        "optimizer = torch.optim.RMSprop(model.parameters(), lr=learning_rate)"
      ],
      "execution_count": 14,
      "outputs": []
    },
    {
      "cell_type": "markdown",
      "metadata": {
        "id": "bwyFsv2nM-5K"
      },
      "source": [
        "<a name=\"step5\"></a>\n",
        "\n",
        "### Step 5: Train the Model\n",
        "\n",
        "Every time you train a model, be sure to include these 3 short but important lines that do much of the heavy lifting for you!\n",
        "\n",
        "1.   `optimizer.zero_grad()`: Zeroes out gradients from previous iterations. Otherwise, over the epochs, gradients will accumulate (sum) in `parameter.grad` of each `parameter` which was passed to the optimizer as an argument.\n",
        "2.   `loss.backward()`: Does all the backpropagation in one fell swoop (takes the derivative of the loss). We call `.backward()` on the loss tensor, which has the effect of taking the partial derivative of the loss with respect to the model parameters. For a model parameter (weight) `w`, dloss/dw will be stored in `w.grad` after `loss.backward()`.\n",
        "3. `optimizer.step()`: Based on the previously specified optimizer algorithm and learning rate, updates the parameters in the direction of the gradient. This represents one iteration of the weight update rule.\n",
        "\n",
        "\n"
      ]
    },
    {
      "cell_type": "code",
      "metadata": {
        "colab": {
          "base_uri": "https://localhost:8080/"
        },
        "id": "IOOcYAkcNAgu",
        "outputId": "10b810f8-5a3f-4e5c-acff-86433660c0a4"
      },
      "source": [
        "num_epochs = 2000\n",
        "for epoch in range(num_epochs):\n",
        "\n",
        "    # Forward pass: compute predicted y by passing x to the model.\n",
        "    y_pred = model(xx)\n",
        "\n",
        "    # Compute and print loss.\n",
        "    loss = loss_fn(y_pred, y)\n",
        "    if epoch % 100 == 99:\n",
        "        print(epoch, loss.item())\n",
        "\n",
        "    # Before the backward pass, zero all the gradients for the variables it will update\n",
        "    # (these are the learnable weights of the model). This is because by defaults, \n",
        "    # gradients from previous iterations won't be overwritten. \n",
        "    optimizer.zero_grad()\n",
        "\n",
        "    # Backward pass: compute gradient of the loss with respect to model parameters\n",
        "    loss.backward()\n",
        "    # After taking the backward pass, you can see the computed gradient for each parameter\n",
        "    if epoch % 100 == 99:\n",
        "      # The model implicitly stores the parameters, as shown below:\n",
        "      for i, param in enumerate(model.parameters()):\n",
        "        # param.grad refers to d_loss/d_parameter\n",
        "        print('parameter', i, 'gradient', param.grad)\n",
        "\n",
        "    # Calling the step function on an Optimizer makes an update to its parameters\n",
        "    optimizer.step()\n",
        "\n",
        "linear_layer = model[0]\n",
        "print(f'Result: y = {linear_layer.bias.item()} + {linear_layer.weight[:, 0].item()} x + {linear_layer.weight[:, 1].item()} x^2 + {linear_layer.weight[:, 2].item()} x^3')"
      ],
      "execution_count": 15,
      "outputs": [
        {
          "output_type": "stream",
          "text": [
            "99 29901.03515625\n",
            "parameter 0 gradient tensor([[ -25520.1660,  -22489.4102, -169676.9062]])\n",
            "parameter 1 gradient tensor([-4002.5444])\n",
            "199 13514.0439453125\n",
            "parameter 0 gradient tensor([[ -17411.2246,  -14588.4268, -113787.1328]])\n",
            "parameter 1 gradient tensor([-2518.0898])\n",
            "299 5222.447265625\n",
            "parameter 0 gradient tensor([[-11046.8926,  -8551.4414, -69933.9609]])\n",
            "parameter 1 gradient tensor([-1386.5197])\n",
            "399 1530.480224609375\n",
            "parameter 0 gradient tensor([[ -6092.7510,  -4088.9114, -35821.5039]])\n",
            "parameter 1 gradient tensor([-555.5815])\n",
            "499 385.79742431640625\n",
            "parameter 0 gradient tensor([[ -2762.7627,  -1392.1802, -12945.1172]])\n",
            "parameter 1 gradient tensor([-65.5901])\n",
            "599 200.3372802734375\n",
            "parameter 0 gradient tensor([[-1174.1719,  -339.1204, -2148.0972]])\n",
            "parameter 1 gradient tensor([101.9944])\n",
            "699 173.66798400878906\n",
            "parameter 0 gradient tensor([[-761.8227, -124.3131,  427.8058]])\n",
            "parameter 1 gradient tensor([100.0007])\n",
            "799 148.5279083251953\n",
            "parameter 0 gradient tensor([[-681.5124,  -69.8485,  569.0922]])\n",
            "parameter 1 gradient tensor([63.1577])\n",
            "899 118.20999145507812\n",
            "parameter 0 gradient tensor([[-610.3175,  -31.2931,  473.1288]])\n",
            "parameter 1 gradient tensor([29.2336])\n",
            "999 85.43472290039062\n",
            "parameter 0 gradient tensor([[-518.1214,   -8.7206,  350.4487]])\n",
            "parameter 1 gradient tensor([8.2508])\n",
            "1099 55.088470458984375\n",
            "parameter 0 gradient tensor([[-408.7584,   -1.0716,  230.3907]])\n",
            "parameter 1 gradient tensor([1.0153])\n",
            "1199 31.813594818115234\n",
            "parameter 0 gradient tensor([[-2.9200e+02, -3.2736e-02,  1.3571e+02]])\n",
            "parameter 1 gradient tensor([0.0311])\n",
            "1299 17.471220016479492\n",
            "parameter 0 gradient tensor([[-1.8083e+02,  8.8449e-04,  7.1342e+01]])\n",
            "parameter 1 gradient tensor([0.0002])\n",
            "1399 10.902332305908203\n",
            "parameter 0 gradient tensor([[-8.9248e+01, -4.5567e-05,  3.1640e+01]])\n",
            "parameter 1 gradient tensor([-5.6624e-07])\n",
            "1499 9.04848861694336\n",
            "parameter 0 gradient tensor([[-2.9790e+01,  8.3834e-05,  1.0093e+01]])\n",
            "parameter 1 gradient tensor([1.3858e-05])\n",
            "1599 8.828611373901367\n",
            "parameter 0 gradient tensor([[  4.2012, -11.4119,  66.7375]])\n",
            "parameter 1 gradient tensor([-2.1579])\n",
            "1699 8.817410469055176\n",
            "parameter 0 gradient tensor([[1.7373e+00, 1.0001e-04, 1.5067e+01]])\n",
            "parameter 1 gradient tensor([2.2948e-06])\n",
            "1799 8.830957412719727\n",
            "parameter 0 gradient tensor([[1.7788e+01, 4.7397e-03, 1.2316e+02]])\n",
            "parameter 1 gradient tensor([0.0010])\n",
            "1899 8.848308563232422\n",
            "parameter 0 gradient tensor([[2.6799e+01, 1.1498e-04, 1.8502e+02]])\n",
            "parameter 1 gradient tensor([1.0759e-05])\n",
            "1999 8.85507583618164\n",
            "parameter 0 gradient tensor([[2.9590e+01, 6.9891e-03, 2.0411e+02]])\n",
            "parameter 1 gradient tensor([0.0013])\n",
            "Result: y = -8.309775978432299e-08 + 0.8564227819442749 x + -8.015923924631352e-08 x^2 + -0.09365765750408173 x^3\n"
          ],
          "name": "stdout"
        }
      ]
    },
    {
      "cell_type": "markdown",
      "metadata": {
        "id": "Z3uuSWYTSLvz"
      },
      "source": [
        "# **Problem 3, Part 1: PyTorch Concept Questions**\n",
        "\n",
        "*Write up your answers to these problems in your PDF submission.  Any work included in your Colab notebook will not be graded.*\n",
        "\n",
        "These questions are intended to be a straightforward check on some fundamental PyTorch concepts. You are encouraged to use the PyTorch documentation and any other online resources to answer these questions.  Please write no more than 3 sentences to answer each of the below questions.\n",
        "\n",
        "# Problem 3.1\n",
        "Where are gradients stored in PyTorch and how can they be accessed?\n",
        "# Problem 3.2\n",
        "In the model defined in [Step 2](#step2) in the tutorial section, how many weights does the model have, and which layer do they come from?\n",
        "# Problem 3.3\n",
        "Conceptually, what is a fully-connected layer in a neural network, and how is it represented in PyTorch?\n"
      ]
    },
    {
      "cell_type": "markdown",
      "metadata": {
        "id": "9jt4jB6bKNcH"
      },
      "source": [
        "# **Problem 3, Part 2: Training a Neural Network on CIFAR-10**"
      ]
    },
    {
      "cell_type": "markdown",
      "metadata": {
        "id": "lOftgxoIsiZl"
      },
      "source": [
        "In this part, you will train two neural networks to perform multi-class classifications on the [CIFAR-10 dataset](https://www.cs.toronto.edu/~kriz/cifar.html). This dataset consists of 32x32 images belonging to 10 classes. In particular:\n",
        "\n",
        "\n",
        "\n",
        "# Problem 3.4\n",
        "**Initialize:** Complete the Part2NeuralNetwork class with 3 fully connected (linear) layers using ReLU activation functions, and with the hidden layers having 1000 nodes each.\n",
        "\n",
        "Here, we ask you to define a model class which inherits from `nn.Module` rather than using `nn.Sequential` as we saw before in [Step 2](#step2). This is done by initializing weights in `__init__()` and manually implementing the forward pass in `forward()`. Feel free to reference documentation.\n",
        "\n",
        "Please copy and paste your neural network class into your PDF writeup.  We recommend using a LaTeX library such as [listings](https://ctan.org/pkg/listings?lang=en) to ensure your code renders correctly.\n",
        "\n",
        "*Include in your submission: Your neural network class code.*\n",
        "\n",
        "# Problem 3.5\n",
        "\n",
        "**Train:** Complete the training code for the model. Use [cross-entropy loss](https://pytorch.org/docs/stable/generated/torch.nn.CrossEntropyLoss.html) and an optimizer of your choice.\n",
        "\n",
        "Train your model for 10 epochs. Every epoch, log the train and test set loss.  Create a plot that displays both the model's train and the test set loss across epochs.\n",
        "\n",
        "*Include in your submission: 1 plot which has both the train and test loss vs. number of epochs.*\n",
        "\n",
        "# Problem 3.6\n",
        "\n",
        "**Evaluate:** To evaluate your model, compute the following metrics on the train and test set, including them in your write-up.  For each of the following metrics, use the model's \"hard assignment\" of labels, i.e. your model's predictions should assign each data point to only 1 class:\n",
        "\n",
        "* The model's classification accuracy\n",
        "* The model's [precision and recall](https://en.wikipedia.org/wiki/Precision_and_recall) for each of the 10 classes\n",
        "\n",
        "What kinds of errors do you believe that the trained model is making?  Use evidence (such as the above metrics, example misclassified images, or any other metrics of your choice) to support your claims.\n",
        "\n",
        "*Include in your submission: train/test accuracy, train/test precision/recall for 10 classes, and evidence to support your hypothesis about the model's errors.*\n",
        "\n",
        "# Problem 3.7\n",
        "\n",
        "**Explore:** Create a new neural network with at least 1 architectural modification.   Some things you can explore are adding or removing layers, changing the number of nodes at each layer, or experimenting with convolutional and pooling layers (see Appendix). The only requirement is that your model attain at least 50% test set accuracy after training for 10 epochs.  This part of the problem is intentionally open-ended, and we encourage you to explore!\n",
        "\n",
        "For your new neural network, include a plot of train and test set loss in your writeup.  Calculate your model's train/test accuracy and precision/recall for the 10 classes.\n",
        "\n",
        "In your writeup, copy and paste your modified neural network class and describe the architectural changes you made.  Write at least 1 sentence about why you hypothesize your new neural network performed better or performed worse than the network in Part 3.4.\n",
        "\n",
        "*Include in your submission: Your neural network class code, 1 plot of train/test loss, metrics from Part 3.6 for this new neural net, and explanation of performance.*\n"
      ]
    },
    {
      "cell_type": "code",
      "metadata": {
        "collapsed": true,
        "id": "ND3B7K0TKPyJ",
        "colab": {
          "base_uri": "https://localhost:8080/",
          "height": 100,
          "referenced_widgets": [
            "eea9aeb2ebfa42fc816d1a868c439563",
            "9be536df1183466c814c4986d6a10641",
            "fb5be95a803f42548a8d3c1f757c4fef",
            "cb894872f5d7409190e293bfb70f2378",
            "c90856d8e403498fa4ef1e11a8803c49",
            "da347889883045e7b933ac5430a7957c",
            "14af31561d0b4af3908380545bb5229c",
            "ef3a88c7e5154732999b2589edb7dfef"
          ]
        },
        "outputId": "ab99fe38-22aa-4018-e562-847d8cc68f52"
      },
      "source": [
        "## Download CIFAR-10 dataset \n",
        "\n",
        "import torch\n",
        "import torchvision\n",
        "import torchvision.transforms as transforms\n",
        "\n",
        "transform = transforms.Compose(\n",
        "    [transforms.ToTensor(),\n",
        "     transforms.Normalize((0.5, 0.5, 0.5), (0.5, 0.5, 0.5))])\n",
        "\n",
        "trainset = torchvision.datasets.CIFAR10(root='./part_2_data', train=True,\n",
        "                                        download=True, transform=transform)\n",
        "trainloader = torch.utils.data.DataLoader(trainset, batch_size=32,\n",
        "                                          shuffle=True, num_workers=2)\n",
        "\n",
        "testset = torchvision.datasets.CIFAR10(root='./part_2_data', train=False,\n",
        "                                       download=True, transform=transform)\n",
        "testloader = torch.utils.data.DataLoader(testset, batch_size=32,\n",
        "                                         shuffle=False, num_workers=2)\n",
        "\n",
        "classes = ('plane', 'car', 'bird', 'cat',\n",
        "           'deer', 'dog', 'frog', 'horse', 'ship', 'truck')"
      ],
      "execution_count": 16,
      "outputs": [
        {
          "output_type": "stream",
          "text": [
            "Downloading https://www.cs.toronto.edu/~kriz/cifar-10-python.tar.gz to ./part_2_data/cifar-10-python.tar.gz\n"
          ],
          "name": "stdout"
        },
        {
          "output_type": "display_data",
          "data": {
            "application/vnd.jupyter.widget-view+json": {
              "model_id": "eea9aeb2ebfa42fc816d1a868c439563",
              "version_minor": 0,
              "version_major": 2
            },
            "text/plain": [
              "HBox(children=(FloatProgress(value=1.0, bar_style='info', max=1.0), HTML(value='')))"
            ]
          },
          "metadata": {
            "tags": []
          }
        },
        {
          "output_type": "stream",
          "text": [
            "Extracting ./part_2_data/cifar-10-python.tar.gz to ./part_2_data\n",
            "Files already downloaded and verified\n"
          ],
          "name": "stdout"
        }
      ]
    },
    {
      "cell_type": "code",
      "metadata": {
        "id": "bLwUkLlbxWPZ"
      },
      "source": [
        "import torchvision as tv\n",
        "\n",
        "def imshow(img):\n",
        "  img = img / 2 + 0.5   # unnormalize\n",
        "  npimg = img.numpy()   # convert from tensor\n",
        "  plt.imshow(np.transpose(npimg, (1, 2, 0))) \n",
        "  plt.show()"
      ],
      "execution_count": 17,
      "outputs": []
    },
    {
      "cell_type": "code",
      "metadata": {
        "colab": {
          "base_uri": "https://localhost:8080/",
          "height": 266
        },
        "id": "7Q3TY87zwz4i",
        "outputId": "1b4a05ce-93c2-4e5c-9265-610f794545fb"
      },
      "source": [
        "import matplotlib.pyplot as plt\n",
        "cpu = torch.device('cpu')\n",
        "\n",
        "# get first 10 training images\n",
        "dataiter = iter(trainloader)\n",
        "imgs, lbls = dataiter.next()\n",
        "for i in range(100):\n",
        "    if lbls[i] == 9:\n",
        "      imshow(tv.utils.make_grid(imgs[i]))\n",
        "      break"
      ],
      "execution_count": 19,
      "outputs": [
        {
          "output_type": "display_data",
          "data": {
            "image/png": "[encoded data removed]",
            "text/plain": [
              "<Figure size 432x288 with 1 Axes>"
            ]
          },
          "metadata": {
            "tags": [],
            "needs_background": "light"
          }
        }
      ]
    },
    {
      "cell_type": "code",
      "metadata": {
        "id": "c-t27AQYtPHc",
        "colab": {
          "base_uri": "https://localhost:8080/"
        },
        "outputId": "49e97977-3aef-4af3-9ebf-e6478a8e8780"
      },
      "source": [
        "# TODO - Complete Part2NeuralNetwork. Include class into your PDF submission!\n",
        "\n",
        "import torch.nn as nn\n",
        "import torch.nn.functional as F\n",
        "import torch.optim as optim\n",
        "\n",
        "device = torch.device('cuda:0' if torch.cuda.is_available() else 'cpu')\n",
        "\n",
        "class Part2NeuralNetwork(nn.Module):\n",
        "    def __init__(self):\n",
        "        super(Part2NeuralNetwork, self).__init__()\n",
        "        ## TODO: Define your neural network layers here!\n",
        "        ## Importantly, any modules which initialize weights should be initialized\n",
        "        ## as member variables here. \n",
        "        ## Note: Keep track of the shape of your input tensors in the training\n",
        "        ## and test sets, because it affects how you define your layers!\n",
        "        ## You might find this resource helpful:\n",
        "        ## https://towardsdatascience.com/pytorch-layer-dimensions-what-sizes-should-they-be-and-why-4265a41e01fd\n",
        "        self.flatten = nn.Flatten()\n",
        "        self.layer1 = nn.Linear(3072,1000)\n",
        "        self.layer2 = nn.Linear(1000,1000)\n",
        "        self.layer3 = nn.Linear(1000,10)\n",
        "\n",
        "\n",
        "    def forward(self, x):\n",
        "        ## TODO: This is where you should apply the layers defined in the __init__\n",
        "        ## method and the ReLU activation functions to the input x.\n",
        "        #x = x.view(32,-1)\n",
        "        #x = x.flatten()\n",
        "        x = self.flatten(x)\n",
        "        x = F.relu(self.layer1(x))\n",
        "        x = F.relu(self.layer2(x))\n",
        "        return F.relu(self.layer3(x))\n",
        "\n",
        "# Display model architecture\n",
        "model = Part2NeuralNetwork()\n",
        "model.to(device)"
      ],
      "execution_count": 73,
      "outputs": [
        {
          "output_type": "execute_result",
          "data": {
            "text/plain": [
              "Part2NeuralNetwork(\n",
              "  (flatten): Flatten(start_dim=1, end_dim=-1)\n",
              "  (layer1): Linear(in_features=3072, out_features=1000, bias=True)\n",
              "  (layer2): Linear(in_features=1000, out_features=1000, bias=True)\n",
              "  (layer3): Linear(in_features=1000, out_features=10, bias=True)\n",
              ")"
            ]
          },
          "metadata": {
            "tags": []
          },
          "execution_count": 73
        }
      ]
    },
    {
      "cell_type": "code",
      "metadata": {
        "collapsed": true,
        "id": "zfaC1lDuek_i",
        "colab": {
          "base_uri": "https://localhost:8080/"
        },
        "outputId": "2c56d0b7-7e55-45b2-f3b2-77f46a60b412"
      },
      "source": [
        "# TODO - Complete NN training\n",
        "\n",
        "# Reinitialize to ensure we are training a new model\n",
        "model = Part2NeuralNetwork()\n",
        "model.to(device)\n",
        "\n",
        "loss_function = nn.CrossEntropyLoss()\n",
        "optimizer = optim.SGD(model.parameters(), lr=0.001, momentum=0.9)\n",
        "\n",
        "train_losses = []\n",
        "test_losses = []\n",
        "\n",
        "for epoch in range(10):\n",
        "    running_loss = 0.0\n",
        "    model.train(True)\n",
        "    for i, data in enumerate(trainloader, 0):\n",
        "        # Get inputs; data is a list of [inputs, labels]\n",
        "        xs, ys = data\n",
        "        xs = xs.to(device)\n",
        "        ys = ys.to(device)\n",
        "\n",
        "        ## TODO: optimize model parameters\n",
        "        # Forward pass: compute predicted y by passing x to the model.\n",
        "        y_pred = model(xs)\n",
        "\n",
        "        # Compute loss.\n",
        "        loss = loss_function(y_pred, ys)\n",
        "\n",
        "        # Before the backward pass, zero all the gradients for the variables it will update\n",
        "        # (these are the learnable weights of the model). This is because by defaults, \n",
        "        # gradients from previous iterations won't be overwritten. \n",
        "        optimizer.zero_grad()\n",
        "\n",
        "        # Backward pass: compute gradient of the loss with respect to model parameters\n",
        "        loss.backward()\n",
        "\n",
        "        # Calling the step function on an Optimizer makes an update to its parameters\n",
        "        optimizer.step()\n",
        "\n",
        "        running_loss += 32*loss.item()\n",
        "    train_losses.append(running_loss / 50000)\n",
        "    print('[Epoch %d] average train loss: %.3f' % (epoch + 1, running_loss / 50000))\n",
        "    \n",
        "    model.train(False)\n",
        "    running_test_loss = 0.0\n",
        "    ## TODO: calculate test loss in similar fashion\n",
        "    for i, data in enumerate(testloader, 0):\n",
        "      xs, ys = data\n",
        "      xs = xs.to(device)\n",
        "      ys = ys.to(device)\n",
        "\n",
        "      # Forward pass: compute predicted y by passing x to the model.\n",
        "      y_pred = model(xs)\n",
        "\n",
        "      # Compute loss.\n",
        "      loss = loss_function(y_pred, ys)\n",
        "\n",
        "      running_test_loss += 32*loss.item()\n",
        "    test_losses.append(running_test_loss / 10000)\n",
        "    print('[Epoch %d] average test loss: %.3f' % (epoch + 1, running_test_loss / 10000))\n",
        "print('Finished Training')"
      ],
      "execution_count": 74,
      "outputs": [
        {
          "output_type": "stream",
          "text": [
            "[Epoch 1] average train loss: 1.949\n",
            "[Epoch 1] average test loss: 1.697\n",
            "[Epoch 2] average train loss: 1.620\n",
            "[Epoch 2] average test loss: 1.557\n",
            "[Epoch 3] average train loss: 1.497\n",
            "[Epoch 3] average test loss: 1.470\n",
            "[Epoch 4] average train loss: 1.405\n",
            "[Epoch 4] average test loss: 1.412\n",
            "[Epoch 5] average train loss: 1.329\n",
            "[Epoch 5] average test loss: 1.384\n",
            "[Epoch 6] average train loss: 1.266\n",
            "[Epoch 6] average test loss: 1.356\n",
            "[Epoch 7] average train loss: 1.207\n",
            "[Epoch 7] average test loss: 1.324\n",
            "[Epoch 8] average train loss: 1.153\n",
            "[Epoch 8] average test loss: 1.321\n",
            "[Epoch 9] average train loss: 1.100\n",
            "[Epoch 9] average test loss: 1.344\n",
            "[Epoch 10] average train loss: 1.050\n",
            "[Epoch 10] average test loss: 1.308\n",
            "Finished Training\n"
          ],
          "name": "stdout"
        }
      ]
    },
    {
      "cell_type": "code",
      "metadata": {
        "colab": {
          "base_uri": "https://localhost:8080/",
          "height": 621
        },
        "id": "2E4U6kzxOEpa",
        "outputId": "914130bb-4a04-4b7d-9921-c7e6111c939f"
      },
      "source": [
        "plt.figure(figsize=(15,10))\n",
        "plt.plot(range(10),train_losses,label='Train Losses')\n",
        "plt.plot(range(10),test_losses,label='Test Losses')\n",
        "plt.title('Part2NeuralNetwork Training and Test Losses across epochs')\n",
        "plt.xlabel('Epochs')\n",
        "plt.ylabel('Loss')\n",
        "plt.legend()\n",
        "plt.show()"
      ],
      "execution_count": 22,
      "outputs": [
        {
          "output_type": "display_data",
          "data": {
            "image/png": "[encoded data removed]",
            "text/plain": [
              "<Figure size 1080x720 with 1 Axes>"
            ]
          },
          "metadata": {
            "tags": [],
            "needs_background": "light"
          }
        }
      ]
    },
    {
      "cell_type": "code",
      "metadata": {
        "collapsed": true,
        "id": "6eM9cwr8Jrfc"
      },
      "source": [
        "# Use this function to compute your model accuracy!\n",
        "# Note that the dataloader argument can take trainloader or testloader\n",
        "def compute_accuracy(model, dataloader):\n",
        "    correct = 0\n",
        "    total = 0\n",
        "    model.train(False)\n",
        "    with torch.no_grad():\n",
        "        for data in dataloader:\n",
        "            xs, ys = data\n",
        "            xs = xs.to(device)\n",
        "            ys = ys.to(device)\n",
        "            y_preds = model(xs)\n",
        "            _, predicted = torch.max(y_preds.data, 1)\n",
        "            total += ys.size(0)\n",
        "            correct += (predicted == ys).sum().item()\n",
        "    print('Model accuracy: %d %%' % (100 * correct / total))"
      ],
      "execution_count": 23,
      "outputs": []
    },
    {
      "cell_type": "code",
      "metadata": {
        "colab": {
          "base_uri": "https://localhost:8080/"
        },
        "id": "Q8w3VUO4PmQL",
        "outputId": "d84e2e33-48fa-4ab9-9feb-f9ec1f894771"
      },
      "source": [
        "print('Training Data:')\n",
        "compute_accuracy(model, trainloader)\n",
        "print('Test Data:')\n",
        "compute_accuracy(model, testloader)"
      ],
      "execution_count": 24,
      "outputs": [
        {
          "output_type": "stream",
          "text": [
            "Training Data:\n",
            "Model accuracy: 67 %\n",
            "Test Data:\n",
            "Model accuracy: 54 %\n"
          ],
          "name": "stdout"
        }
      ]
    },
    {
      "cell_type": "code",
      "metadata": {
        "id": "_y8-TOk6ZWSf"
      },
      "source": [
        "def compute_precision_recall(model, dataloader):\n",
        "  # true positives\n",
        "  TP = [0]*10\n",
        "  # false positives\n",
        "  FP = [0]*10\n",
        "  # false negatives\n",
        "  FN = [0]*10\n",
        "  predictions = [0]*10\n",
        "  trues = [0]*10\n",
        "  model.train(False)\n",
        "  with torch.no_grad():\n",
        "    for data in dataloader:\n",
        "      xs, ys = data\n",
        "      xs = xs.to(device)\n",
        "      ys = ys.to(device)\n",
        "      y_preds = model(xs)\n",
        "      _, predicted = torch.max(y_preds.data,1)\n",
        "      for i in range(predicted.shape[0]):\n",
        "        if (predicted[i]==ys[i]).item():\n",
        "          TP[predicted[i].item()] += 1\n",
        "        else:\n",
        "          FP[predicted[i].item()] += 1\n",
        "          FN[ys[i].item()] += 1\n",
        "      #for i in range(10):\n",
        "      #  predictions[i] += (predicted==i).sum().item()\n",
        "      #  trues[i] += (ys==i).sum().item()\n",
        "  precision = [i/(i+j) for i, j in zip(TP,FP)]\n",
        "  recall = [i/(i+j) for i, j in zip(TP,FN)]\n",
        "  for i in range(10):\n",
        "    print('The precision for class ' + str(i) + ' is: ' + str(round(precision[i],4)))\n",
        "    print('The recall for class ' + str(i) + ' is: ' + str(round(recall[i],4))+'\\n')"
      ],
      "execution_count": 25,
      "outputs": []
    },
    {
      "cell_type": "code",
      "metadata": {
        "colab": {
          "base_uri": "https://localhost:8080/"
        },
        "id": "Oepx3ISKb1A1",
        "outputId": "ab9cf6f9-f505-40dc-c9f9-be13e7cafebd"
      },
      "source": [
        "print('Precision and Recall for Training Data:')\n",
        "compute_precision_recall(model, trainloader)"
      ],
      "execution_count": 26,
      "outputs": [
        {
          "output_type": "stream",
          "text": [
            "Precision and Recall for Training Data:\n",
            "The precision for class 0 is: 0.7091\n",
            "The recall for class 0 is: 0.7024\n",
            "\n",
            "The precision for class 1 is: 0.7523\n",
            "The recall for class 1 is: 0.8396\n",
            "\n",
            "The precision for class 2 is: 0.5633\n",
            "The recall for class 2 is: 0.5538\n",
            "\n",
            "The precision for class 3 is: 0.5717\n",
            "The recall for class 3 is: 0.4128\n",
            "\n",
            "The precision for class 4 is: 0.5839\n",
            "The recall for class 4 is: 0.6046\n",
            "\n",
            "The precision for class 5 is: 0.5656\n",
            "The recall for class 5 is: 0.5954\n",
            "\n",
            "The precision for class 6 is: 0.644\n",
            "The recall for class 6 is: 0.7488\n",
            "\n",
            "The precision for class 7 is: 0.7435\n",
            "The recall for class 7 is: 0.7768\n",
            "\n",
            "The precision for class 8 is: 0.7661\n",
            "The recall for class 8 is: 0.7908\n",
            "\n",
            "The precision for class 9 is: 0.801\n",
            "The recall for class 9 is: 0.6892\n",
            "\n"
          ],
          "name": "stdout"
        }
      ]
    },
    {
      "cell_type": "code",
      "metadata": {
        "colab": {
          "base_uri": "https://localhost:8080/"
        },
        "id": "FvQFHCOAVc39",
        "outputId": "5ff988c3-80c2-4e7c-9445-a37b8e74110b"
      },
      "source": [
        "print('Precision and Recall for Test Data:')\n",
        "compute_precision_recall(model, testloader)"
      ],
      "execution_count": 27,
      "outputs": [
        {
          "output_type": "stream",
          "text": [
            "Precision and Recall for Test Data:\n",
            "The precision for class 0 is: 0.5961\n",
            "The recall for class 0 is: 0.611\n",
            "\n",
            "The precision for class 1 is: 0.6235\n",
            "The recall for class 1 is: 0.684\n",
            "\n",
            "The precision for class 2 is: 0.4418\n",
            "The recall for class 2 is: 0.433\n",
            "\n",
            "The precision for class 3 is: 0.4062\n",
            "The recall for class 3 is: 0.29\n",
            "\n",
            "The precision for class 4 is: 0.4563\n",
            "The recall for class 4 is: 0.475\n",
            "\n",
            "The precision for class 5 is: 0.4405\n",
            "The recall for class 5 is: 0.459\n",
            "\n",
            "The precision for class 6 is: 0.5451\n",
            "The recall for class 6 is: 0.635\n",
            "\n",
            "The precision for class 7 is: 0.5998\n",
            "The recall for class 7 is: 0.64\n",
            "\n",
            "The precision for class 8 is: 0.664\n",
            "The recall for class 8 is: 0.666\n",
            "\n",
            "The precision for class 9 is: 0.6328\n",
            "The recall for class 9 is: 0.548\n",
            "\n"
          ],
          "name": "stdout"
        }
      ]
    },
    {
      "cell_type": "code",
      "metadata": {
        "colab": {
          "base_uri": "https://localhost:8080/"
        },
        "id": "_rhS7kZhWfjA",
        "outputId": "7bb48b30-29bf-4450-c590-c317d1ad66fc"
      },
      "source": [
        "class Problem3_7NeuralNetwork(nn.Module):\n",
        "    def __init__(self):\n",
        "        super(Problem3_7NeuralNetwork, self).__init__()\n",
        "        self.flatten = nn.Flatten()\n",
        "        self.layer1 = nn.Linear(3072,4000)\n",
        "        self.layer2 = nn.Linear(4000,5000)\n",
        "        self.layer3 = nn.Linear(5000,5000)\n",
        "        self.layer4 = nn.Linear(5000,10)\n",
        "\n",
        "\n",
        "    def forward(self, x):\n",
        "        x = self.flatten(x)\n",
        "        x = F.relu(self.layer1(x))\n",
        "        x = F.relu(self.layer2(x))\n",
        "        x = F.relu(self.layer3(x))\n",
        "        return F.relu(self.layer4(x))\n",
        "\n",
        "# Display model architecture\n",
        "model = Problem3_7NeuralNetwork()\n",
        "model.to(device)"
      ],
      "execution_count": 117,
      "outputs": [
        {
          "output_type": "execute_result",
          "data": {
            "text/plain": [
              "Problem3_7NeuralNetwork(\n",
              "  (flatten): Flatten(start_dim=1, end_dim=-1)\n",
              "  (layer1): Linear(in_features=3072, out_features=4000, bias=True)\n",
              "  (layer2): Linear(in_features=4000, out_features=5000, bias=True)\n",
              "  (layer3): Linear(in_features=5000, out_features=5000, bias=True)\n",
              "  (layer4): Linear(in_features=5000, out_features=10, bias=True)\n",
              ")"
            ]
          },
          "metadata": {
            "tags": []
          },
          "execution_count": 117
        }
      ]
    },
    {
      "cell_type": "code",
      "metadata": {
        "colab": {
          "base_uri": "https://localhost:8080/"
        },
        "id": "zP3JLBLgXDqx",
        "outputId": "f111e5bd-0fd8-4356-f89b-77e06a9ea92d"
      },
      "source": [
        "# NN training\n",
        "\n",
        "# Reinitialize to ensure we are training a new model\n",
        "model = Problem3_7NeuralNetwork()\n",
        "model.to(device)\n",
        "\n",
        "loss_function = nn.CrossEntropyLoss()\n",
        "optimizer = optim.SGD(model.parameters(), lr=0.001, momentum=0.9)\n",
        "\n",
        "train_losses = []\n",
        "test_losses = []\n",
        "\n",
        "for epoch in range(10):\n",
        "    running_loss = 0.0\n",
        "    model.train(True)\n",
        "    for i, data in enumerate(trainloader, 0):\n",
        "        # Get inputs; data is a list of [inputs, labels]\n",
        "        xs, ys = data\n",
        "        xs = xs.to(device)\n",
        "        ys = ys.to(device)\n",
        "\n",
        "        ## TODO: optimize model parameters\n",
        "        # Forward pass: compute predicted y by passing x to the model.\n",
        "        y_pred = model(xs)\n",
        "\n",
        "        # Compute loss.\n",
        "        loss = loss_function(y_pred, ys)\n",
        "\n",
        "        # Before the backward pass, zero all the gradients for the variables it will update\n",
        "        # (these are the learnable weights of the model). This is because by defaults, \n",
        "        # gradients from previous iterations won't be overwritten. \n",
        "        optimizer.zero_grad()\n",
        "\n",
        "        # Backward pass: compute gradient of the loss with respect to model parameters\n",
        "        loss.backward()\n",
        "\n",
        "        # Calling the step function on an Optimizer makes an update to its parameters\n",
        "        optimizer.step()\n",
        "\n",
        "        running_loss += 32*loss.item()\n",
        "    train_losses.append(running_loss / 50000)\n",
        "    print('[Epoch %d] average train loss: %.3f' % (epoch + 1, running_loss / 50000))\n",
        "    \n",
        "    model.train(False)\n",
        "    running_test_loss = 0.0\n",
        "    ## TODO: calculate test loss in similar fashion\n",
        "    for i, data in enumerate(testloader, 0):\n",
        "      xs, ys = data\n",
        "      xs = xs.to(device)\n",
        "      ys = ys.to(device)\n",
        "\n",
        "      # Forward pass: compute predicted y by passing x to the model.\n",
        "      y_pred = model(xs)\n",
        "\n",
        "      # Compute loss.\n",
        "      loss = loss_function(y_pred, ys)\n",
        "\n",
        "      running_test_loss += 32*loss.item()\n",
        "    test_losses.append(running_test_loss / 10000)\n",
        "    print('[Epoch %d] average test loss: %.3f' % (epoch + 1, running_test_loss / 10000))\n",
        "print('Finished Training')"
      ],
      "execution_count": 118,
      "outputs": [
        {
          "output_type": "stream",
          "text": [
            "[Epoch 1] average train loss: 1.973\n",
            "[Epoch 1] average test loss: 1.718\n",
            "[Epoch 2] average train loss: 1.622\n",
            "[Epoch 2] average test loss: 1.545\n",
            "[Epoch 3] average train loss: 1.474\n",
            "[Epoch 3] average test loss: 1.445\n",
            "[Epoch 4] average train loss: 1.366\n",
            "[Epoch 4] average test loss: 1.397\n",
            "[Epoch 5] average train loss: 1.274\n",
            "[Epoch 5] average test loss: 1.362\n",
            "[Epoch 6] average train loss: 1.196\n",
            "[Epoch 6] average test loss: 1.378\n",
            "[Epoch 7] average train loss: 1.124\n",
            "[Epoch 7] average test loss: 1.308\n",
            "[Epoch 8] average train loss: 1.053\n",
            "[Epoch 8] average test loss: 1.324\n",
            "[Epoch 9] average train loss: 0.982\n",
            "[Epoch 9] average test loss: 1.362\n",
            "[Epoch 10] average train loss: 0.912\n",
            "[Epoch 10] average test loss: 1.324\n",
            "Finished Training\n"
          ],
          "name": "stdout"
        }
      ]
    },
    {
      "cell_type": "code",
      "metadata": {
        "colab": {
          "base_uri": "https://localhost:8080/",
          "height": 621
        },
        "id": "aavtr9QgXVSN",
        "outputId": "b97e9c9c-18b2-4fd2-f03a-8d0257ffadf2"
      },
      "source": [
        "plt.figure(figsize=(15,10))\n",
        "plt.plot(range(10),train_losses,label='Train Losses')\n",
        "plt.plot(range(10),test_losses,label='Test Losses')\n",
        "plt.title('Problem3_7NeuralNetwork Training and Test Losses across epochs')\n",
        "plt.xlabel('Epochs')\n",
        "plt.ylabel('Loss')\n",
        "plt.legend()\n",
        "plt.show()"
      ],
      "execution_count": 119,
      "outputs": [
        {
          "output_type": "display_data",
          "data": {
            "image/png": "[encoded data removed]",
            "text/plain": [
              "<Figure size 1080x720 with 1 Axes>"
            ]
          },
          "metadata": {
            "tags": [],
            "needs_background": "light"
          }
        }
      ]
    },
    {
      "cell_type": "code",
      "metadata": {
        "colab": {
          "base_uri": "https://localhost:8080/"
        },
        "id": "7CMIHoYnXdM0",
        "outputId": "f2c62bdc-c9a4-4662-c98b-ac46d91b506a"
      },
      "source": [
        "print('Training Data:')\n",
        "compute_accuracy(model, trainloader)\n",
        "print('Test Data:')\n",
        "compute_accuracy(model, testloader)"
      ],
      "execution_count": 120,
      "outputs": [
        {
          "output_type": "stream",
          "text": [
            "Training Data:\n",
            "Model accuracy: 72 %\n",
            "Test Data:\n",
            "Model accuracy: 54 %\n"
          ],
          "name": "stdout"
        }
      ]
    },
    {
      "cell_type": "code",
      "metadata": {
        "colab": {
          "base_uri": "https://localhost:8080/"
        },
        "id": "ao56ZW4tXhCL",
        "outputId": "4c4ab5ef-9825-45ae-9a2d-b27d05ea163b"
      },
      "source": [
        "print('Precision and Recall for Training Data:')\n",
        "compute_precision_recall(model, trainloader)"
      ],
      "execution_count": 121,
      "outputs": [
        {
          "output_type": "stream",
          "text": [
            "Precision and Recall for Training Data:\n",
            "The precision for class 0 is: 0.8672\n",
            "The recall for class 0 is: 0.6046\n",
            "\n",
            "The precision for class 1 is: 0.8575\n",
            "The recall for class 1 is: 0.8824\n",
            "\n",
            "The precision for class 2 is: 0.6399\n",
            "The recall for class 2 is: 0.6024\n",
            "\n",
            "The precision for class 3 is: 0.521\n",
            "The recall for class 3 is: 0.6462\n",
            "\n",
            "The precision for class 4 is: 0.673\n",
            "The recall for class 4 is: 0.6834\n",
            "\n",
            "The precision for class 5 is: 0.7481\n",
            "The recall for class 5 is: 0.4836\n",
            "\n",
            "The precision for class 6 is: 0.7337\n",
            "The recall for class 6 is: 0.8468\n",
            "\n",
            "The precision for class 7 is: 0.8274\n",
            "The recall for class 7 is: 0.8064\n",
            "\n",
            "The precision for class 8 is: 0.6643\n",
            "The recall for class 8 is: 0.917\n",
            "\n",
            "The precision for class 9 is: 0.865\n",
            "The recall for class 9 is: 0.7968\n",
            "\n"
          ],
          "name": "stdout"
        }
      ]
    },
    {
      "cell_type": "code",
      "metadata": {
        "colab": {
          "base_uri": "https://localhost:8080/"
        },
        "id": "rryKWdsqXjN4",
        "outputId": "1579b2fa-f8cc-424d-b4f7-ac9f8f77c3cc"
      },
      "source": [
        "print('Precision and Recall for Test Data:')\n",
        "compute_precision_recall(model, testloader)"
      ],
      "execution_count": 122,
      "outputs": [
        {
          "output_type": "stream",
          "text": [
            "Precision and Recall for Test Data:\n",
            "The precision for class 0 is: 0.6848\n",
            "The recall for class 0 is: 0.454\n",
            "\n",
            "The precision for class 1 is: 0.6715\n",
            "The recall for class 1 is: 0.648\n",
            "\n",
            "The precision for class 2 is: 0.4545\n",
            "The recall for class 2 is: 0.444\n",
            "\n",
            "The precision for class 3 is: 0.3635\n",
            "The recall for class 3 is: 0.454\n",
            "\n",
            "The precision for class 4 is: 0.4923\n",
            "The recall for class 4 is: 0.479\n",
            "\n",
            "The precision for class 5 is: 0.5406\n",
            "The recall for class 5 is: 0.353\n",
            "\n",
            "The precision for class 6 is: 0.5598\n",
            "The recall for class 6 is: 0.669\n",
            "\n",
            "The precision for class 7 is: 0.6353\n",
            "The recall for class 7 is: 0.608\n",
            "\n",
            "The precision for class 8 is: 0.5409\n",
            "The recall for class 8 is: 0.774\n",
            "\n",
            "The precision for class 9 is: 0.5912\n",
            "The recall for class 9 is: 0.554\n",
            "\n"
          ],
          "name": "stdout"
        }
      ]
    },
    {
      "cell_type": "markdown",
      "metadata": {
        "id": "VHkX9Z6q27-4"
      },
      "source": [
        "<a name=\"Appendix\"></a>\n",
        "# Appendix: Computation Graphs"
      ]
    },
    {
      "cell_type": "markdown",
      "metadata": {
        "id": "aaUHTpkpUOHn"
      },
      "source": [
        "A *computation graph* is an abstract graphical representation of a mathematical expression involving variables. Each variable is represented as an edge, and each operation as a node; the graph is directed and acyclic. For instance, the expression $(x + y)^2 + x$ can be represented as:\n",
        "\n",
        "![Computation Graph](https://github.com/harvard-ml-courses/cs181-s21-homeworks/blob/main/hw3/T3_P3_computation_graph.jpg?raw=true)\n",
        "\n",
        "Expressions can be converted into graphs and vice versa. Computation graphs are useful representations in the context of neural networks, because\n",
        "1. They encode all the necessary information for the computation of gradients into discrete units through repeated application of the chain rule, and\n",
        "2. Graphs are easy to implement with code (conceptually, one can imagine storing pointers between nodes)\n",
        "\n",
        "The process in step #1 is known as *automatic differentiation*.\n",
        "\n",
        "If you would like to walk through a computation graph on a small neural network, we recommend [this resource](https://blog.paperspace.com/pytorch-101-understanding-graphs-and-automatic-differentiation/)."
      ]
    },
    {
      "cell_type": "markdown",
      "metadata": {
        "id": "ztTJRpX09z6J"
      },
      "source": [
        "# Appendix: Convolutional Neural Networks"
      ]
    },
    {
      "cell_type": "markdown",
      "metadata": {
        "id": "9fNNaZso91zx"
      },
      "source": [
        "A convolutional neural network (CNN) is a special type of neural network that has \"convolution layers\". CNNs are able to model spatial and temporal dependencies in ordered sequences of input data.\n",
        "\n",
        "The convolution layer of a CNN applies a filter (sometimes referred to as a \"kernel\") to an input to produce an output. \n",
        "\n",
        "Assume without loss of generality that we have two-dimensional input data $x : m \\times n$.  For example, $x$ may be the color of each pixel of a grayscale $m$ by $n$ image.\n",
        "\n",
        "During the forward pass, we slide (or \"convolve\") the filter across the input data.  In most CNNs, the filter is a function of \"regions\" of the data, where individual components of the input are grouped together.  For example, a convolutional filter applied to image data may take into account $3 x 3$ groups of pixels to model dependencies in between adjacent pixels:\n",
        "\n",
        "![CNN sliding window](https://courses.edx.org/assets/courseware/v1/7396a332c596cb606eae215d96301334/asset-v1:MITx+6.871Jx+2T2021+type@asset+block/cnn_sliding_window.gif)\n",
        "\n",
        "This GIF image shows a sliding convolutional 3 x 3 filter, being applied to 3 x 3 segments of a 4 x 4 dataset.\n",
        "\n",
        "source: https://towardsdatascience.com/intuitively-understanding-convolutions-for-deep-learning-1f6f42faee1\n",
        "\n",
        "Another example of a 1-dimensional convolution filter is illustrated by the below GIF:\n",
        "\n",
        "![Convolution operation for a simple (1 x 3) filter](https://studio.edx.org/assets/courseware/v1/20da14e015eac1863451dafe3d456e59/asset-v1:MITx+6.871Jx+2T2021+type@asset+block/cnn.gif)\n",
        "\n",
        "This animation is described below.\n",
        "\n",
        "In this example, the filter $[2, 3, 1]$ is applied as an inner product with the input vector $x = [x_1, x_2, ..., x_{10}]: 1 \\times 10$ which contains annotations of a patient EKG.  Notice here that the filter is applied to 3 successive time-steps of the input vector: the output $y_t$ at time $t$ is equal to $[2, 3, 1] \\cdot [x_t, x_{t + 1}, t_{t + 2}]$.  Therefore the output $y_t$ contains information not only about a single EKG annotation $x_t$, but also about nearby EKG annotations $x_{t + 1}$ and $x_{t + 2}$.\n",
        "\n",
        "We strongly recommend [reading this article](https://adventuresinmachinelearning.com/convolutional-neural-networks-tutorial-in-pytorch/) which walks through how to create a CNN using conv and pooling layers in PyTorch.\n",
        "\n",
        "If you are interested, you can also watch this [MIT lecture](https://www.youtube.com/watch?v=iaSUYvmCekI) on CNNs."
      ]
    }
  ]
}